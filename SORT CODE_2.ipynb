{
 "cells": [
  {
   "cell_type": "code",
   "execution_count": null,
   "metadata": {},
   "outputs": [],
   "source": [
    "import pandas as pd\n",
    "\n",
    "\n",
    "# Read the CSV file\n",
    "df_11_1 = pd.read_csv(\"D:\\\\0-transportation project\\\\201311\\\\201311\\\\KOTI_20131110.csv\", dtype={'Unnamed: 7': float}, low_memory=False)\n",
    "df_11_2 = pd.read_csv(\"D:\\\\0-transportation project\\\\201311\\\\201311\\\\KOTI_20131111.csv\", dtype={'Unnamed: 7': float}, low_memory=False)\n",
    "df_11_3 = pd.read_csv(\"D:\\\\0-transportation project\\\\201311\\\\201311\\\\KOTI_20131112.csv\", dtype={'Unnamed: 7': float}, low_memory=False)\n",
    "df_11_4 = pd.read_csv(\"D:\\\\0-transportation project\\\\201311\\\\201311\\\\KOTI_20131113.csv\", dtype={'Unnamed: 7': float}, low_memory=False)\n",
    "df_11_5 = pd.read_csv(\"D:\\\\0-transportation project\\\\201311\\\\201311\\\\KOTI_20131114.csv\", dtype={'Unnamed: 7': float}, low_memory=False)\n",
    "df_11_6 = pd.read_csv(\"D:\\\\0-transportation project\\\\201311\\\\201311\\\\KOTI_20131115.csv\", dtype={'Unnamed: 7': float}, low_memory=False)\n",
    "df_11_7 = pd.read_csv(\"D:\\\\0-transportation project\\\\201311\\\\201311\\\\KOTI_20131116.csv\", dtype={'Unnamed: 7': float}, low_memory=False)"
   ]
  },
  {
   "cell_type": "code",
   "execution_count": null,
   "metadata": {},
   "outputs": [],
   "source": [
    "def data_date_time(df):\n",
    "    '''\n",
    "    df['RIDE_DTIME'] = df['RIDE_DTIME'].fillna('00000000000000').astype(str)\n",
    "    df['RIDE_DATE'] = df['RIDE_DTIME'].astype(str).str[:8]  # First part, up to 8th character\n",
    "    df['RIDE_TIME'] = df['RIDE_DTIME'].astype(str).str[8:] \n",
    "    df['RIDE_DATE'] = pd.to_datetime(df['RIDE_DATE'], format='%Y%m%d')\n",
    "    #df['RIDE_TIME'] = pd.to_timedelta(df['RIDE_TIME'].astype(str).str.zfill(6), unit='m')\n",
    "    #df_12_1['RIDE_TIME'] = pd.to_timedelta(df_12_1['RIDE_TIME'].astype(str).str.zfill(6).apply(lambda x: f'{x[:2]}:{x[2:4]}:{x[4:]}'))\n",
    "    df['ALIGHT_TIME'] = pd.to_datetime(df['ALIGHT_DTIME'].str[8:], format='%H%M%S').dt.time\n",
    "    df['ALIGHT_DTIME'] = df['ALIGHT_DTIME'].fillna('00000000000000').astype(str)\n",
    "    df['ALIGHT_DATE'] = df['ALIGHT_DTIME'].astype(str).str[:8]  # First part, up to 8th character\n",
    "    #df['ALIGHT_TIME'] = df['ALIGHT_DTIME'].astype(str).str[8:] \n",
    "    #df['ALIGHT_DATE'] = pd.to_datetime(df['ALIGHT_DATE'], format='%Y%m%d')\n",
    "    #df['RIDE_TIME'] = pd.to_timedelta(df['RIDE_TIME'].astype(str).str.zfill(6), unit='m')\n",
    "    #df_12_1['RIDE_TIME'] = pd.to_timedelta(df_12_1['RIDE_TIME'].astype(str).str.zfill(6).apply(lambda x: f'{x[:2]}:{x[2:4]}:{x[4:]}'))\n",
    "    #df['RIDE_TIME'] = pd.to_datetime(df['RIDE_DTIME'].str[8:], format='%H%M%S').dt.time\n",
    "    '''\n",
    "        # Ensure that 'RIDE_DTIME' and 'ALIGHT_DTIME' are treated as strings\n",
    "    \n",
    "    df['RIDE_DTIME'] = df['RIDE_DTIME'].astype(str)\n",
    "    df['ALIGHT_DTIME'] = df['ALIGHT_DTIME'].astype(str)\n",
    "    # Process 'RIDE_DTIME' to extract date and time\n",
    "    if 'RIDE_DTIME' in df.columns:\n",
    "        df['RIDE_DATE'] = pd.to_datetime(df['RIDE_DTIME'].str[:8], format='%Y%m%d')\n",
    "        df['RIDE_TIME'] = pd.to_datetime(df['RIDE_DTIME'].str[8:14], format='%H%M%S', errors='coerce').dt.time\n",
    "    else:\n",
    "        # Handle case where 'ALIGHT_DTIME' may not exist\n",
    "        df['RIDE_DATE'] = pd.NaT\n",
    "        df['RIDE_TIME'] = None\n",
    "    # Check if 'ALIGHT_DTIME' exists and process it to extract date and time\n",
    "    if 'ALIGHT_DTIME' in df.columns:\n",
    "        df['ALIGHT_DATE'] = pd.to_datetime(df['ALIGHT_DTIME'].str[:8], format='%Y%m%d')\n",
    "        df['ALIGHT_TIME'] = pd.to_datetime(df['ALIGHT_DTIME'].str[8:14], format='%H%M%S', errors='coerce').dt.time\n",
    "    else:\n",
    "        # Handle case where 'ALIGHT_DTIME' may not exist\n",
    "        df['ALIGHT_DATE'] = pd.NaT\n",
    "        df['ALIGHT_TIME'] = None\n",
    "    # Select only the desired columns\n",
    "    \n",
    "    selected_columns = [\n",
    "        'PCARD_NO',\n",
    "        'RIDE_DATE',\n",
    "        'RIDE_TIME',\n",
    "        'ALIGHT_DATE',\n",
    "        'ALIGHT_TIME',\n",
    "        'RIDE_STA_ID',\n",
    "        'ALIGHT_STA_ID',\n",
    "        'PCARD_USER_CLASS_CD',\n",
    "        'TRANSP_METHOD_CD',\n",
    "        'BUS_ROUTE_ID',  \n",
    "        'USE_DIST',\n",
    "        'USE_TIME'\n",
    "    ]\n",
    "    \n",
    "    return df"
   ]
  },
  {
   "cell_type": "code",
   "execution_count": null,
   "metadata": {},
   "outputs": [],
   "source": [
    "df_11_1=data_date_time(df_11_1)\n",
    "df_11_2=data_date_time(df_11_2)\n",
    "df_11_3=data_date_time(df_11_3)\n",
    "df_11_4=data_date_time(df_11_4)\n",
    "df_11_5=data_date_time(df_11_5)\n",
    "df_11_6=data_date_time(df_11_6)\n",
    "df_11_7=data_date_time(df_11_7)"
   ]
  },
  {
   "cell_type": "code",
   "execution_count": null,
   "metadata": {},
   "outputs": [],
   "source": [
    "def sort_data(df):\n",
    "    # Sort the dataframe by 'PCARD_NO' and 'RIDE_DATE' to ensure sequential transactions are ordered\n",
    "    df.sort_values(by=['PCARD_NO', 'RIDE_DATE', 'RIDE_TIME'], inplace=True)\n",
    "    return df"
   ]
  },
  {
   "cell_type": "code",
   "execution_count": null,
   "metadata": {},
   "outputs": [],
   "source": [
    "df_11_1=sort_data(df_11_1)\n",
    "df_11_2=sort_data(df_11_2)\n",
    "df_11_3=sort_data(df_11_3)\n",
    "df_11_4=sort_data(df_11_4)\n",
    "df_11_5=sort_data(df_11_5)\n",
    "df_11_6=sort_data(df_11_6)\n",
    "df_11_7=sort_data(df_11_7)"
   ]
  },
  {
   "cell_type": "code",
   "execution_count": null,
   "metadata": {},
   "outputs": [],
   "source": [
    "df = pd.concat([df_11_1,df_11_2,df_11_3,df_11_4,df_11_5,df_11_6,df_11_7], ignore_index=True)"
   ]
  },
  {
   "cell_type": "code",
   "execution_count": null,
   "metadata": {},
   "outputs": [],
   "source": [
    "df['RIDE_DATE'] = pd.to_datetime(df['RIDE_DATE'])\n",
    "df['DAY_OF_WEEK'] = df['RIDE_DATE'].dt.day_name()"
   ]
  },
  {
   "cell_type": "code",
   "execution_count": null,
   "metadata": {},
   "outputs": [],
   "source": [
    "def categorize_time(time):\n",
    "    if time >= pd.to_datetime('06:00:00').time() and time <= pd.to_datetime('10:00:00').time():\n",
    "        return 'Morning Peak (MP)'\n",
    "    elif time >= pd.to_datetime('16:00:00').time() and time <= pd.to_datetime('20:00:00').time():\n",
    "        return 'Afternoon Peak (AP)'\n",
    "    else:\n",
    "        return 'Non-Peak (NP)'"
   ]
  },
  {
   "cell_type": "code",
   "execution_count": null,
   "metadata": {},
   "outputs": [],
   "source": [
    "# Define the specific payment card number you're interested in\n",
    "#pcard_counts = df['PCARD_NO'].value_counts()\n",
    "#specific_pcard = pcard_counts.idxmax()\n",
    "specific_pcard='000E0E0E96E3BFC3'\n",
    "\n",
    "# Filter the DataFrame for rows where 'PCARD_NO' matches the specific payment card number\n",
    "filtered_rows = df[df['PCARD_NO'] == specific_pcard]\n",
    "\n",
    "# Display the filtered rowsa\n",
    "print(filtered_rows)\n"
   ]
  },
  {
   "cell_type": "code",
   "execution_count": null,
   "metadata": {},
   "outputs": [],
   "source": [
    "filtered_rows['TIME_CATEGORY'] = filtered_rows['RIDE_TIME'].apply(categorize_time)\n",
    "print(filtered_rows)"
   ]
  },
  {
   "cell_type": "code",
   "execution_count": null,
   "metadata": {},
   "outputs": [],
   "source": [
    "filtered_rows.to_csv(\"D:\\\\0-transportation project\\\\filter_data.csv\",index=False)\n"
   ]
  },
  {
   "cell_type": "code",
   "execution_count": null,
   "metadata": {},
   "outputs": [],
   "source": [
    "# Function to determine most frequent station for given conditions\n",
    "def identify_stations(df, user_id_col, station_id_col, time_cat):\n",
    "    filtered = df[df['TIME_CATEGORY'] == time_cat]\n",
    "    return filtered.groupby([user_id_col, station_id_col]).size().reset_index(name='counts').sort_values(by=['counts'], ascending=False).drop_duplicates(subset=[user_id_col])\n"
   ]
  },
  {
   "cell_type": "code",
   "execution_count": null,
   "metadata": {},
   "outputs": [],
   "source": [
    "# Identifying homes and workplaces\n",
    "def find_places(df):\n",
    "    # Most-departed station during morning peak hours for home\n",
    "    homes_morning = identify_stations(df, 'PCARD_NO', 'RIDE_STA_ID', 'Morning Peak (MP)')\n",
    "    # Most-visited station during afternoon peak hours for home\n",
    "    homes_afternoon = identify_stations(df, 'PCARD_NO', 'ALIGHT_STA_ID', 'Afternoon Peak (AP)')\n",
    "\n",
    "    # Most-visited station during morning peak hours for workplace\n",
    "    work_morning = identify_stations(df, 'PCARD_NO', 'ALIGHT_STA_ID', 'Morning Peak (MP)')\n",
    "    # Most-departed station during afternoon peak hours for workplace\n",
    "    work_afternoon = identify_stations(df, 'PCARD_NO', 'RIDE_STA_ID', 'Afternoon Peak (AP)')\n",
    "\n",
    "    # Most-visited stations during non-peak hours for other activities\n",
    "    other_activities = identify_stations(df, 'PCARD_NO', 'ALIGHT_STA_ID', 'Non-Peak (NP)')\n",
    "\n",
    "    # Merging to create a comprehensive dataframe\n",
    "    homes = pd.merge(homes_morning, homes_afternoon, on='PCARD_NO', suffixes=('_morning', '_afternoon'))\n",
    "    workplaces = pd.merge(work_morning, work_afternoon, on='PCARD_NO', suffixes=('_morning', '_afternoon'))\n",
    "\n",
    "    return homes, workplaces, other_activities"
   ]
  },
  {
   "cell_type": "code",
   "execution_count": null,
   "metadata": {},
   "outputs": [],
   "source": [
    "# Apply the function to find each type of location\n",
    "'''\n",
    "homes, workplaces, other_activities = find_places(df)\n",
    "\n",
    "# Example output\n",
    "print(\"Sample Homes Data:\")\n",
    "print(homes.head())\n",
    "print(\"Sample Workplaces Data:\")\n",
    "print(workplaces.head())\n",
    "print(\"Sample Other Activities Data:\")\n",
    "print(other_activities.head())\n",
    "'''"
   ]
  }
 ],
 "metadata": {
  "kernelspec": {
   "display_name": "Python 3",
   "language": "python",
   "name": "python3"
  },
  "language_info": {
   "codemirror_mode": {
    "name": "ipython",
    "version": 3
   },
   "file_extension": ".py",
   "mimetype": "text/x-python",
   "name": "python",
   "nbconvert_exporter": "python",
   "pygments_lexer": "ipython3",
   "version": "3.11.9"
  }
 },
 "nbformat": 4,
 "nbformat_minor": 2
}
