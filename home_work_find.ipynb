{
 "cells": [
  {
   "cell_type": "code",
   "execution_count": 1,
   "metadata": {},
   "outputs": [],
   "source": [
    "import pandas as pd"
   ]
  },
  {
   "cell_type": "code",
   "execution_count": 2,
   "metadata": {},
   "outputs": [
    {
     "name": "stdout",
     "output_type": "stream",
     "text": [
      "                 PCARD_NO      TRIP_START_TIME        TRIP_END_TIME  \\\n",
      "0        000E0B000033603G  2013-12-15 09:54:01  2013-12-15 11:36:20   \n",
      "1        000E0B000033603G  2013-12-15 14:53:51  2013-12-15 15:08:13   \n",
      "2        000E0B000033603G  2013-12-15 16:58:12  2013-12-15 17:13:20   \n",
      "3        000E0B000035BGC5  2013-12-15 21:13:57  2013-12-15 23:00:44   \n",
      "4        000E0B000035BGFF  2013-12-15 16:38:32  2013-12-15 22:27:40   \n",
      "...                   ...                  ...                  ...   \n",
      "3482918        GFE0B9E0C6  2013-12-21 23:05:05  2013-12-21 09:51:04   \n",
      "3482919        GG53BFCE65  2013-12-21 11:53:19  2013-12-21 12:37:08   \n",
      "3482920        GG636503EF  2013-12-21 11:28:31  2013-12-21 17:07:21   \n",
      "3482921        GG636503EF  2013-12-21 17:07:31  2013-12-21 16:17:08   \n",
      "3482922        GGFE090FBC  2013-12-21 18:17:37  2013-12-21 22:58:46   \n",
      "\n",
      "         ORIGIN_STA_ID  DESTINATION_STA_ID        TIME_CATEGORY  \n",
      "0              9011513              8809.0    Morning Peak (MP)  \n",
      "1                72411             72260.0        Non-Peak (NP)  \n",
      "2                  420               426.0  Afternoon Peak (AP)  \n",
      "3                  220               219.0        Non-Peak (NP)  \n",
      "4                  219               206.0  Afternoon Peak (AP)  \n",
      "...                ...                 ...                  ...  \n",
      "3482918            426              1403.0        Non-Peak (NP)  \n",
      "3482919           1403              1405.0        Non-Peak (NP)  \n",
      "3482920           2624               428.0        Non-Peak (NP)  \n",
      "3482921            428              1725.0  Afternoon Peak (AP)  \n",
      "3482922           2756              2756.0  Afternoon Peak (AP)  \n",
      "\n",
      "[3482923 rows x 6 columns]\n"
     ]
    }
   ],
   "source": [
    "df1 = pd.read_csv(\"D:\\\\2_spring 2024\\\\0_deep learning\\\\data\\\\1\\\\PCARD_USER_CLASS_CD_4.csv\")\n",
    "df2 = pd.read_csv(\"D:\\\\2_spring 2024\\\\0_deep learning\\\\data\\\\2\\\\PCARD_USER_CLASS_CD_4.csv\")\n",
    "df3 = pd.read_csv(\"D:\\\\2_spring 2024\\\\0_deep learning\\\\data\\\\3\\\\PCARD_USER_CLASS_CD_4.csv\")\n",
    "df4 = pd.read_csv(\"D:\\\\2_spring 2024\\\\0_deep learning\\\\data\\\\4\\\\PCARD_USER_CLASS_CD_4.csv\")\n",
    "df5 = pd.read_csv(\"D:\\\\2_spring 2024\\\\0_deep learning\\\\data\\\\5\\\\PCARD_USER_CLASS_CD_4.csv\")\n",
    "df6 = pd.read_csv(\"D:\\\\2_spring 2024\\\\0_deep learning\\\\data\\\\6\\\\PCARD_USER_CLASS_CD_4.csv\")\n",
    "df7 = pd.read_csv(\"D:\\\\2_spring 2024\\\\0_deep learning\\\\data\\\\7\\\\PCARD_USER_CLASS_CD_4.csv\")\n",
    "df = pd.concat([df1,df2,df3,df4,df5,df6,df7], ignore_index=True)\n",
    "print(df)"
   ]
  },
  {
   "cell_type": "code",
   "execution_count": 3,
   "metadata": {},
   "outputs": [
    {
     "name": "stdout",
     "output_type": "stream",
     "text": [
      "            PCARD_NO  Home_Station  Workplace_Station  Other_Activity_Location\n",
      "0   000E0B000033603G       9011513              426.0                  72260.0\n",
      "1   000E0E0000G50050         10204              240.0                   1801.0\n",
      "2   000E0E0000G5E0CG          9168            73880.0                  72028.0\n",
      "3   000E0E00030CC05E          9536             4119.0                8002607.0\n",
      "4   000E0E0003E65G63         73678          8501137.0                  70143.0\n",
      "5   000E0E0003EG0656         72570              339.0                  71611.0\n",
      "6   000E0E000F6E9GF3         72241            72246.0                  72246.0\n",
      "7   000E0E000GCC9GE0       9011252             2645.0                   2645.0\n",
      "8   000E0E000GCEBB0C         75787             2645.0                8002819.0\n",
      "9   000E0E00300E0656         72079             2717.0                   2717.0\n",
      "10  000E0E0030G0E0CE         11314          8000536.0                9000112.0\n",
      "11  000E0E0030G0EEBG           417              417.0                    222.0\n",
      "12  000E0E00353CF5BB          4145          9009333.0                    234.0\n",
      "13  000E0E003590930C       9008217              221.0                9008166.0\n",
      "14  000E0E0035955F3F          2819             2819.0                   2819.0\n",
      "15  000E0E00359CC0FB          2721             2722.0                  72186.0\n",
      "16  000E0E003630FCBE         70684              151.0                   2716.0\n",
      "17  000E0E0036333G50         10109              234.0                   1802.0\n",
      "18  000E0E00363FBFG5       9007998              219.0                    331.0\n",
      "19  000E0E00365BC03B       9009127          9008912.0                    414.0\n"
     ]
    }
   ],
   "source": [
    "\n",
    "\n",
    "def find_valid_places(df):\n",
    "    results = []\n",
    "    \n",
    "    for pcard in df['PCARD_NO'].unique():\n",
    "        filtered_rows = df[df['PCARD_NO'] == pcard]\n",
    "        \n",
    "        # Morning Peak (MP)\n",
    "        morning_peak_group = filtered_rows[filtered_rows['TIME_CATEGORY'] == 'Morning Peak (MP)'].groupby('ORIGIN_STA_ID').size()\n",
    "        home_station = morning_peak_group.idxmax() if not morning_peak_group.empty else None\n",
    "\n",
    "        # Afternoon Peak (AP)\n",
    "        afternoon_peak_group = filtered_rows[filtered_rows['TIME_CATEGORY'] == 'Afternoon Peak (AP)'].groupby('DESTINATION_STA_ID').size()\n",
    "        workplace_station = afternoon_peak_group.idxmax() if not afternoon_peak_group.empty else None\n",
    "\n",
    "        # Non-Peak (NP)\n",
    "        non_peak_group = filtered_rows[filtered_rows['TIME_CATEGORY'] == 'Non-Peak (NP)'].groupby('DESTINATION_STA_ID').size()\n",
    "        other_activity_location = non_peak_group.idxmax() if not non_peak_group.empty else None\n",
    "        \n",
    "        # Check if all three locations are non-null and append to results if true\n",
    "        if home_station and workplace_station and other_activity_location:\n",
    "            results.append({\n",
    "                'PCARD_NO': pcard, \n",
    "                'Home_Station': home_station, \n",
    "                'Workplace_Station': workplace_station, \n",
    "                'Other_Activity_Location': other_activity_location\n",
    "            })\n",
    "            # Stop if we have found the first 20 PCards with all locations defined\n",
    "            if len(results) == 20:\n",
    "                break\n",
    "    \n",
    "    return pd.DataFrame(results)\n",
    "\n",
    "# Example usage\n",
    "# Assume df has 'TIME_CATEGORY' properly set and categorizes 'RIDE_DTIME' before calling this function\n",
    "result_df = find_valid_places(df)\n",
    "print(result_df)\n"
   ]
  },
  {
   "cell_type": "code",
   "execution_count": 3,
   "metadata": {},
   "outputs": [
    {
     "name": "stdout",
     "output_type": "stream",
     "text": [
      "                PCARD_NO  Home_Station  Workplace_Station  \\\n",
      "0       00FE0F00E3F6C09B          9447             9650.0   \n",
      "1       000E0E0GBFF3095C         10670          8002636.0   \n",
      "2       000E0E05E9FB53FB          9364              239.0   \n",
      "3   E00E000G0E003BCFFF56          4108             3117.0   \n",
      "4       E50E0E9039E0C5GB       9011523              203.0   \n",
      "5       000E0E0GCEF359CG         72817              225.0   \n",
      "6       E50E0E900E3CEB9B          2511              239.0   \n",
      "7       00FE0F00G3C056EE           216              215.0   \n",
      "8       000E0E0GFG69E63G          9416              239.0   \n",
      "9       00FE0F00GB3BC0EE          2626             2626.0   \n",
      "10      000E0E0FBEFFG03C          2559              228.0   \n",
      "11      E50E0E90G0B06065       8501091            70959.0   \n",
      "12      000E0E0CCE3E300E       9004289             4107.0   \n",
      "13      000E0E06FFF0G9E9           327             9143.0   \n",
      "14      000E0E0C636EBBB5         60060              222.0   \n",
      "15      00FE0F00G5BF030C       9008946              156.0   \n",
      "16      E50E0E900G5565CB       9010505              229.0   \n",
      "\n",
      "    Other_Activity_Location  \n",
      "0                 8002486.0  \n",
      "1                 9110516.0  \n",
      "2                 9010587.0  \n",
      "3                     201.0  \n",
      "4                     203.0  \n",
      "5                     225.0  \n",
      "6                 9010958.0  \n",
      "7                     416.0  \n",
      "8                   71216.0  \n",
      "9                     426.0  \n",
      "10                8000293.0  \n",
      "11                  70959.0  \n",
      "12                8002729.0  \n",
      "13                    424.0  \n",
      "14                    230.0  \n",
      "15                    232.0  \n",
      "16                    229.0  \n"
     ]
    },
    {
     "ename": "",
     "evalue": "",
     "output_type": "error",
     "traceback": [
      "\u001b[1;31mThe Kernel crashed while executing code in the current cell or a previous cell. \n",
      "\u001b[1;31mPlease review the code in the cell(s) to identify a possible cause of the failure. \n",
      "\u001b[1;31mClick <a href='https://aka.ms/vscodeJupyterKernelCrash'>here</a> for more info. \n",
      "\u001b[1;31mView Jupyter <a href='command:jupyter.viewOutput'>log</a> for further details."
     ]
    }
   ],
   "source": [
    "import pandas as pd\n",
    "\n",
    "def find_valid_places(df):\n",
    "    results = []\n",
    "    \n",
    "    # Find the most frequently used PCARD_NOs\n",
    "    most_frequent_cards = df['PCARD_NO'].value_counts().nlargest(20).index.tolist()\n",
    "    \n",
    "    # Filter dataframe for only these most frequent PCARD_NOs\n",
    "    df = df[df['PCARD_NO'].isin(most_frequent_cards)]\n",
    "    \n",
    "    for pcard in most_frequent_cards:\n",
    "        filtered_rows = df[df['PCARD_NO'] == pcard]\n",
    "        \n",
    "        # Morning Peak (MP)\n",
    "        morning_peak_group = filtered_rows[filtered_rows['TIME_CATEGORY'] == 'Morning Peak (MP)'].groupby('ORIGIN_STA_ID').size()\n",
    "        home_station = morning_peak_group.idxmax() if not morning_peak_group.empty else None\n",
    "\n",
    "        # Afternoon Peak (AP)\n",
    "        afternoon_peak_group = filtered_rows[filtered_rows['TIME_CATEGORY'] == 'Afternoon Peak (AP)'].groupby('DESTINATION_STA_ID').size()\n",
    "        workplace_station = afternoon_peak_group.idxmax() if not afternoon_peak_group.empty else None\n",
    "\n",
    "        # Non-Peak (NP)\n",
    "        non_peak_group = filtered_rows[filtered_rows['TIME_CATEGORY'] == 'Non-Peak (NP)'].groupby('DESTINATION_STA_ID').size()\n",
    "        other_activity_location = non_peak_group.idxmax() if not non_peak_group.empty else None\n",
    "        \n",
    "        # Check if all three locations are non-null and append to results if true\n",
    "        if home_station and workplace_station and other_activity_location:\n",
    "            results.append({\n",
    "                'PCARD_NO': pcard, \n",
    "                'Home_Station': home_station, \n",
    "                'Workplace_Station': workplace_station, \n",
    "                'Other_Activity_Location': other_activity_location\n",
    "            })\n",
    "    \n",
    "    return pd.DataFrame(results)\n",
    "\n",
    "# Example usage\n",
    "# Assume df has 'TIME_CATEGORY' properly set and categorizes 'RIDE_DTIME' before calling this function\n",
    "result_df = find_valid_places(df)\n",
    "print(result_df)\n"
   ]
  },
  {
   "cell_type": "code",
   "execution_count": 11,
   "metadata": {},
   "outputs": [
    {
     "name": "stderr",
     "output_type": "stream",
     "text": [
      "C:\\Users\\suman\\AppData\\Local\\Temp\\ipykernel_31512\\3656139967.py:20: SettingWithCopyWarning: \n",
      "A value is trying to be set on a copy of a slice from a DataFrame.\n",
      "Try using .loc[row_indexer,col_indexer] = value instead\n",
      "\n",
      "See the caveats in the documentation: https://pandas.pydata.org/pandas-docs/stable/user_guide/indexing.html#returning-a-view-versus-a-copy\n",
      "  home_times['TRIP_START_TIME'] = pd.to_datetime(home_times['TRIP_START_TIME'])\n"
     ]
    },
    {
     "data": {
      "image/png": "[encoded data removed]",
      "text/plain": [
       "<Figure size 640x480 with 1 Axes>"
      ]
     },
     "metadata": {},
     "output_type": "display_data"
    },
    {
     "ename": "",
     "evalue": "",
     "output_type": "error",
     "traceback": [
      "\u001b[1;31mThe Kernel crashed while executing code in the current cell or a previous cell. \n",
      "\u001b[1;31mPlease review the code in the cell(s) to identify a possible cause of the failure. \n",
      "\u001b[1;31mClick <a href='https://aka.ms/vscodeJupyterKernelCrash'>here</a> for more info. \n",
      "\u001b[1;31mView Jupyter <a href='command:jupyter.viewOutput'>log</a> for further details."
     ]
    }
   ],
   "source": [
    "import pandas as pd\n",
    "import matplotlib.pyplot as plt\n",
    "from matplotlib.dates import DateFormatter\n",
    "\n",
    "def plot_pcard_timeline(df, pcard_info, pcard_number):\n",
    "    # Filter the data for the specified PCard\n",
    "    pcard_data = df[df['PCARD_NO'] == pcard_number]\n",
    "\n",
    "    # Set the figure and format the dates for plotting\n",
    "    fig, ax = plt.subplots()\n",
    "    ax.xaxis.set_major_formatter(DateFormatter('%H:%M'))\n",
    "\n",
    "    # Home, Work, and Other Activity Times\n",
    "    for index, row in pcard_info.iterrows():\n",
    "        if row['PCARD_NO'] == pcard_number:\n",
    "            home_times = pcard_data[pcard_data['ORIGIN_STA_ID'] == row['Home_Station']]\n",
    "            work_times = pcard_data[pcard_data['ORIGIN_STA_ID'] == row['Workplace_Station']]\n",
    "            \n",
    "            # Ensure 'RIDE_DTIME' is converted to datetime if not already\n",
    "            home_times['TRIP_START_TIME'] = pd.to_datetime(home_times['TRIP_START_TIME'])\n",
    "            work_times['TRIP_START_TIME'] = pd.to_datetime(work_times['TRIP_START_TIME'])\n",
    "            \n",
    "            ax.plot(home_times['TRIP_START_TIME'], [1]*len(home_times), '|', markersize=30, label='Home')\n",
    "            ax.plot(work_times['TRIP_START_TIME'], [2]*len(work_times), '|', markersize=30, label='Work')\n",
    "            \n",
    "    # Setting the legend and labels\n",
    "    ax.set_yticks([1, 2, 3])\n",
    "    ax.set_yticklabels(['Home', 'Work', 'Other'])\n",
    "    ax.set_ylim(0.5, 3.5)\n",
    "    ax.set_title(f\"Activity Timeline for PCard {pcard_number}\")\n",
    "    plt.legend()\n",
    "\n",
    "    plt.show()\n",
    "\n",
    "# Example usage:\n",
    "# Assume 'df' is your dataset with detailed PCard activity logs\n",
    "# and 'pcard_info_df' is the DataFrame shown in your image with home, workplace, and other activity locations.\n",
    "pcard_number = '000E0B000033603G'  # Example PCard number\n",
    "filtered_rows = result_df[result_df['PCARD_NO'] == pcard_number]\n",
    "\n",
    "plot_pcard_timeline(df, filtered_rows, pcard_number)\n"
   ]
  },
  {
   "cell_type": "code",
   "execution_count": null,
   "metadata": {},
   "outputs": [],
   "source": []
  }
 ],
 "metadata": {
  "kernelspec": {
   "display_name": "Python 3",
   "language": "python",
   "name": "python3"
  },
  "language_info": {
   "codemirror_mode": {
    "name": "ipython",
    "version": 3
   },
   "file_extension": ".py",
   "mimetype": "text/x-python",
   "name": "python",
   "nbconvert_exporter": "python",
   "pygments_lexer": "ipython3",
   "version": "3.11.9"
  }
 },
 "nbformat": 4,
 "nbformat_minor": 2
}
